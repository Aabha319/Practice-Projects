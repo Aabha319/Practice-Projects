{
 "cells": [
  {
   "cell_type": "code",
   "execution_count": 1,
   "id": "d83993af",
   "metadata": {},
   "outputs": [],
   "source": [
    "import pandas as pd\n",
    "import numpy as np\n",
    "import matplotlib.pyplot as plt\n",
    "import seaborn as sns\n",
    "from sklearn.model_selection import train_test_split \n",
    "from sklearn.preprocessing import StandardScaler , MinMaxScaler\n",
    "from sklearn.linear_model import LinearRegression\n",
    "from sklearn.metrics import r2_score , mean_squared_error\n",
    "from sklearn.ensemble import RandomForestRegressor\n",
    "from sklearn.tree import DecisionTreeRegressor"
   ]
  },
  {
   "cell_type": "code",
   "execution_count": null,
   "id": "376c5636",
   "metadata": {},
   "outputs": [],
   "source": [
    "data = pd.read_csv('Salaries.csv')\n",
    "data\n",
    "data.isnull().sum()\n",
    "data.info()\n",
    "data.describe()\n",
    "plt.scatter( data['YearsExperience'] ,data['Salary'] )\n",
    "plt.xlabel('Year of Exp')\n",
    "plt.ylabel('Salary')\n",
    "plt.show()\n",
    "X = data.drop('Salary',axis=1)\n",
    "y = data['Salary']\n",
    "X.shape , y.shape\n",
    "lr = LinearRegression()\n",
    "lr.fit(X_train , Y_train)\n",
    "pred = lr.predict(X_test)\n",
    "pred\n",
    "Y_test\n",
    "lr.score(X_test , Y_test)\n",
    "diff = Y_test - pred\n",
    "pd.DataFrame(np.c_[Y_test , pred , diff] , columns=['Actual','Predicted','Difference'])\n",
    "plt.scatter(X_train , Y_train , color='blue')\n",
    "plt.plot(X_train,lr.predict(X_train),color='red')\n",
    "plt.title('Salary vs Experience')\n",
    "plt.xlabel('Years of Experience')\n",
    "plt.ylabel(\"Salary\")\n",
    "plt.show()\n",
    "plt.scatter(X_test , Y_test,color='blue')\n",
    "plt.plot(X_test ,lr.predict(X_test) ,color='red')\n",
    "plt.title('Salary vs Experience')\n",
    "plt.xlabel('Years of Experience')\n",
    "plt.ylabel(\"Salary\")\n",
    "plt.show()\n",
    "rmse = np.sqrt(mean_squared_error(Y_test,pred))\n",
    "r2 = r2_score(Y_test,pred)\n",
    "rmse , r2\n",
    "lr.predict([[3]])\n",
    "dtr = DecisionTreeRegressor()\n",
    "dtr.fit(X_train , Y_train)\n",
    "pred1 = dtr.predict(X_test)\n",
    "pred1\n",
    "Y_test\n",
    "rmse1 = np.sqrt(mean_squared_error(Y_test,pred1))\n",
    "r21 = r2_score(Y_test,pred1)\n",
    "\n",
    "\n",
    "rmse1,r21\n",
    "\n",
    "\n",
    "\n",
    "\n",
    "\n",
    "\n",
    "\n",
    "\n"
   ]
  }
 ],
 "metadata": {
  "kernelspec": {
   "display_name": "Python 3",
   "language": "python",
   "name": "python3"
  },
  "language_info": {
   "codemirror_mode": {
    "name": "ipython",
    "version": 3
   },
   "file_extension": ".py",
   "mimetype": "text/x-python",
   "name": "python",
   "nbconvert_exporter": "python",
   "pygments_lexer": "ipython3",
   "version": "3.8.8"
  }
 },
 "nbformat": 4,
 "nbformat_minor": 5
}
